{
 "cells": [
  {
   "cell_type": "markdown",
   "metadata": {},
   "source": [
    "# Summer Olympics Data Analysis Assignment"
   ]
  },
  {
   "cell_type": "code",
   "execution_count": 1,
   "metadata": {},
   "outputs": [],
   "source": [
    "import numpy as np\n",
    "import pandas as pd\n",
    "import matplotlib.pyplot as plt\n",
    "from IPython.display import display"
   ]
  },
  {
   "cell_type": "code",
   "execution_count": 2,
   "metadata": {},
   "outputs": [],
   "source": [
    "# loading the dataset\n",
    "df=pd.read_csv('summer.csv')"
   ]
  },
  {
   "cell_type": "code",
   "execution_count": 3,
   "metadata": {},
   "outputs": [
    {
     "data": {
      "text/html": [
       "<div>\n",
       "<style scoped>\n",
       "    .dataframe tbody tr th:only-of-type {\n",
       "        vertical-align: middle;\n",
       "    }\n",
       "\n",
       "    .dataframe tbody tr th {\n",
       "        vertical-align: top;\n",
       "    }\n",
       "\n",
       "    .dataframe thead th {\n",
       "        text-align: right;\n",
       "    }\n",
       "</style>\n",
       "<table border=\"1\" class=\"dataframe\">\n",
       "  <thead>\n",
       "    <tr style=\"text-align: right;\">\n",
       "      <th></th>\n",
       "      <th>Year</th>\n",
       "      <th>City</th>\n",
       "      <th>Sport</th>\n",
       "      <th>Discipline</th>\n",
       "      <th>Athlete</th>\n",
       "      <th>Country</th>\n",
       "      <th>Gender</th>\n",
       "      <th>Event</th>\n",
       "      <th>Medal</th>\n",
       "    </tr>\n",
       "  </thead>\n",
       "  <tbody>\n",
       "    <tr>\n",
       "      <th>0</th>\n",
       "      <td>1896</td>\n",
       "      <td>Athens</td>\n",
       "      <td>Aquatics</td>\n",
       "      <td>Swimming</td>\n",
       "      <td>HAJOS, Alfred</td>\n",
       "      <td>HUN</td>\n",
       "      <td>Men</td>\n",
       "      <td>100M Freestyle</td>\n",
       "      <td>Gold</td>\n",
       "    </tr>\n",
       "    <tr>\n",
       "      <th>1</th>\n",
       "      <td>1896</td>\n",
       "      <td>Athens</td>\n",
       "      <td>Aquatics</td>\n",
       "      <td>Swimming</td>\n",
       "      <td>HERSCHMANN, Otto</td>\n",
       "      <td>AUT</td>\n",
       "      <td>Men</td>\n",
       "      <td>100M Freestyle</td>\n",
       "      <td>Silver</td>\n",
       "    </tr>\n",
       "    <tr>\n",
       "      <th>2</th>\n",
       "      <td>1896</td>\n",
       "      <td>Athens</td>\n",
       "      <td>Aquatics</td>\n",
       "      <td>Swimming</td>\n",
       "      <td>DRIVAS, Dimitrios</td>\n",
       "      <td>GRE</td>\n",
       "      <td>Men</td>\n",
       "      <td>100M Freestyle For Sailors</td>\n",
       "      <td>Bronze</td>\n",
       "    </tr>\n",
       "    <tr>\n",
       "      <th>3</th>\n",
       "      <td>1896</td>\n",
       "      <td>Athens</td>\n",
       "      <td>Aquatics</td>\n",
       "      <td>Swimming</td>\n",
       "      <td>MALOKINIS, Ioannis</td>\n",
       "      <td>GRE</td>\n",
       "      <td>Men</td>\n",
       "      <td>100M Freestyle For Sailors</td>\n",
       "      <td>Gold</td>\n",
       "    </tr>\n",
       "    <tr>\n",
       "      <th>4</th>\n",
       "      <td>1896</td>\n",
       "      <td>Athens</td>\n",
       "      <td>Aquatics</td>\n",
       "      <td>Swimming</td>\n",
       "      <td>CHASAPIS, Spiridon</td>\n",
       "      <td>GRE</td>\n",
       "      <td>Men</td>\n",
       "      <td>100M Freestyle For Sailors</td>\n",
       "      <td>Silver</td>\n",
       "    </tr>\n",
       "  </tbody>\n",
       "</table>\n",
       "</div>"
      ],
      "text/plain": [
       "   Year    City     Sport Discipline             Athlete Country Gender  \\\n",
       "0  1896  Athens  Aquatics   Swimming       HAJOS, Alfred     HUN    Men   \n",
       "1  1896  Athens  Aquatics   Swimming    HERSCHMANN, Otto     AUT    Men   \n",
       "2  1896  Athens  Aquatics   Swimming   DRIVAS, Dimitrios     GRE    Men   \n",
       "3  1896  Athens  Aquatics   Swimming  MALOKINIS, Ioannis     GRE    Men   \n",
       "4  1896  Athens  Aquatics   Swimming  CHASAPIS, Spiridon     GRE    Men   \n",
       "\n",
       "                        Event   Medal  \n",
       "0              100M Freestyle    Gold  \n",
       "1              100M Freestyle  Silver  \n",
       "2  100M Freestyle For Sailors  Bronze  \n",
       "3  100M Freestyle For Sailors    Gold  \n",
       "4  100M Freestyle For Sailors  Silver  "
      ]
     },
     "execution_count": 3,
     "metadata": {},
     "output_type": "execute_result"
    }
   ],
   "source": [
    "# printing some data\n",
    "df.head()"
   ]
  },
  {
   "cell_type": "code",
   "execution_count": 4,
   "metadata": {},
   "outputs": [
    {
     "data": {
      "text/html": [
       "<div>\n",
       "<style scoped>\n",
       "    .dataframe tbody tr th:only-of-type {\n",
       "        vertical-align: middle;\n",
       "    }\n",
       "\n",
       "    .dataframe tbody tr th {\n",
       "        vertical-align: top;\n",
       "    }\n",
       "\n",
       "    .dataframe thead th {\n",
       "        text-align: right;\n",
       "    }\n",
       "</style>\n",
       "<table border=\"1\" class=\"dataframe\">\n",
       "  <thead>\n",
       "    <tr style=\"text-align: right;\">\n",
       "      <th></th>\n",
       "      <th>Year</th>\n",
       "      <th>City</th>\n",
       "      <th>Sport</th>\n",
       "      <th>Discipline</th>\n",
       "      <th>Athlete</th>\n",
       "      <th>Country</th>\n",
       "      <th>Gender</th>\n",
       "      <th>Event</th>\n",
       "      <th>Medal</th>\n",
       "    </tr>\n",
       "  </thead>\n",
       "  <tbody>\n",
       "    <tr>\n",
       "      <th>count</th>\n",
       "      <td>31165.000000</td>\n",
       "      <td>31165</td>\n",
       "      <td>31165</td>\n",
       "      <td>31165</td>\n",
       "      <td>31165</td>\n",
       "      <td>31161</td>\n",
       "      <td>31165</td>\n",
       "      <td>31165</td>\n",
       "      <td>31165</td>\n",
       "    </tr>\n",
       "    <tr>\n",
       "      <th>unique</th>\n",
       "      <td>NaN</td>\n",
       "      <td>22</td>\n",
       "      <td>43</td>\n",
       "      <td>67</td>\n",
       "      <td>22762</td>\n",
       "      <td>147</td>\n",
       "      <td>2</td>\n",
       "      <td>666</td>\n",
       "      <td>3</td>\n",
       "    </tr>\n",
       "    <tr>\n",
       "      <th>top</th>\n",
       "      <td>NaN</td>\n",
       "      <td>London</td>\n",
       "      <td>Aquatics</td>\n",
       "      <td>Athletics</td>\n",
       "      <td>PHELPS, Michael</td>\n",
       "      <td>USA</td>\n",
       "      <td>Men</td>\n",
       "      <td>Football</td>\n",
       "      <td>Gold</td>\n",
       "    </tr>\n",
       "    <tr>\n",
       "      <th>freq</th>\n",
       "      <td>NaN</td>\n",
       "      <td>3567</td>\n",
       "      <td>4170</td>\n",
       "      <td>3638</td>\n",
       "      <td>22</td>\n",
       "      <td>4585</td>\n",
       "      <td>22746</td>\n",
       "      <td>1497</td>\n",
       "      <td>10486</td>\n",
       "    </tr>\n",
       "    <tr>\n",
       "      <th>mean</th>\n",
       "      <td>1970.482785</td>\n",
       "      <td>NaN</td>\n",
       "      <td>NaN</td>\n",
       "      <td>NaN</td>\n",
       "      <td>NaN</td>\n",
       "      <td>NaN</td>\n",
       "      <td>NaN</td>\n",
       "      <td>NaN</td>\n",
       "      <td>NaN</td>\n",
       "    </tr>\n",
       "    <tr>\n",
       "      <th>std</th>\n",
       "      <td>33.158416</td>\n",
       "      <td>NaN</td>\n",
       "      <td>NaN</td>\n",
       "      <td>NaN</td>\n",
       "      <td>NaN</td>\n",
       "      <td>NaN</td>\n",
       "      <td>NaN</td>\n",
       "      <td>NaN</td>\n",
       "      <td>NaN</td>\n",
       "    </tr>\n",
       "    <tr>\n",
       "      <th>min</th>\n",
       "      <td>1896.000000</td>\n",
       "      <td>NaN</td>\n",
       "      <td>NaN</td>\n",
       "      <td>NaN</td>\n",
       "      <td>NaN</td>\n",
       "      <td>NaN</td>\n",
       "      <td>NaN</td>\n",
       "      <td>NaN</td>\n",
       "      <td>NaN</td>\n",
       "    </tr>\n",
       "    <tr>\n",
       "      <th>25%</th>\n",
       "      <td>1948.000000</td>\n",
       "      <td>NaN</td>\n",
       "      <td>NaN</td>\n",
       "      <td>NaN</td>\n",
       "      <td>NaN</td>\n",
       "      <td>NaN</td>\n",
       "      <td>NaN</td>\n",
       "      <td>NaN</td>\n",
       "      <td>NaN</td>\n",
       "    </tr>\n",
       "    <tr>\n",
       "      <th>50%</th>\n",
       "      <td>1980.000000</td>\n",
       "      <td>NaN</td>\n",
       "      <td>NaN</td>\n",
       "      <td>NaN</td>\n",
       "      <td>NaN</td>\n",
       "      <td>NaN</td>\n",
       "      <td>NaN</td>\n",
       "      <td>NaN</td>\n",
       "      <td>NaN</td>\n",
       "    </tr>\n",
       "    <tr>\n",
       "      <th>75%</th>\n",
       "      <td>2000.000000</td>\n",
       "      <td>NaN</td>\n",
       "      <td>NaN</td>\n",
       "      <td>NaN</td>\n",
       "      <td>NaN</td>\n",
       "      <td>NaN</td>\n",
       "      <td>NaN</td>\n",
       "      <td>NaN</td>\n",
       "      <td>NaN</td>\n",
       "    </tr>\n",
       "    <tr>\n",
       "      <th>max</th>\n",
       "      <td>2012.000000</td>\n",
       "      <td>NaN</td>\n",
       "      <td>NaN</td>\n",
       "      <td>NaN</td>\n",
       "      <td>NaN</td>\n",
       "      <td>NaN</td>\n",
       "      <td>NaN</td>\n",
       "      <td>NaN</td>\n",
       "      <td>NaN</td>\n",
       "    </tr>\n",
       "  </tbody>\n",
       "</table>\n",
       "</div>"
      ],
      "text/plain": [
       "                Year    City     Sport Discipline          Athlete Country  \\\n",
       "count   31165.000000   31165     31165      31165            31165   31161   \n",
       "unique           NaN      22        43         67            22762     147   \n",
       "top              NaN  London  Aquatics  Athletics  PHELPS, Michael     USA   \n",
       "freq             NaN    3567      4170       3638               22    4585   \n",
       "mean     1970.482785     NaN       NaN        NaN              NaN     NaN   \n",
       "std        33.158416     NaN       NaN        NaN              NaN     NaN   \n",
       "min      1896.000000     NaN       NaN        NaN              NaN     NaN   \n",
       "25%      1948.000000     NaN       NaN        NaN              NaN     NaN   \n",
       "50%      1980.000000     NaN       NaN        NaN              NaN     NaN   \n",
       "75%      2000.000000     NaN       NaN        NaN              NaN     NaN   \n",
       "max      2012.000000     NaN       NaN        NaN              NaN     NaN   \n",
       "\n",
       "       Gender     Event  Medal  \n",
       "count   31165     31165  31165  \n",
       "unique      2       666      3  \n",
       "top       Men  Football   Gold  \n",
       "freq    22746      1497  10486  \n",
       "mean      NaN       NaN    NaN  \n",
       "std       NaN       NaN    NaN  \n",
       "min       NaN       NaN    NaN  \n",
       "25%       NaN       NaN    NaN  \n",
       "50%       NaN       NaN    NaN  \n",
       "75%       NaN       NaN    NaN  \n",
       "max       NaN       NaN    NaN  "
      ]
     },
     "execution_count": 4,
     "metadata": {},
     "output_type": "execute_result"
    }
   ],
   "source": [
    "# description about the dataset\n",
    "df.describe(include=\"all\")"
   ]
  },
  {
   "cell_type": "code",
   "execution_count": 5,
   "metadata": {},
   "outputs": [
    {
     "data": {
      "text/plain": [
       "Year          0\n",
       "City          0\n",
       "Sport         0\n",
       "Discipline    0\n",
       "Athlete       0\n",
       "Country       4\n",
       "Gender        0\n",
       "Event         0\n",
       "Medal         0\n",
       "dtype: int64"
      ]
     },
     "execution_count": 5,
     "metadata": {},
     "output_type": "execute_result"
    }
   ],
   "source": [
    "# cgecking for null values\n",
    "df.isnull().sum()"
   ]
  },
  {
   "cell_type": "code",
   "execution_count": 6,
   "metadata": {},
   "outputs": [],
   "source": [
    "#converting dataframe in numpy array\n",
    "df_arr=df.values"
   ]
  },
  {
   "cell_type": "markdown",
   "metadata": {},
   "source": [
    "# Questions related to assignment"
   ]
  },
  {
   "cell_type": "markdown",
   "metadata": {},
   "source": [
    "### 1. In how many cities Summer Olympics is held so far?"
   ]
  },
  {
   "cell_type": "code",
   "execution_count": 7,
   "metadata": {},
   "outputs": [
    {
     "name": "stdout",
     "output_type": "stream",
     "text": [
      "Cities in which olympics has happend:\n",
      "['Athens' 'Paris' 'St Louis' 'London' 'Stockholm' 'Antwerp' 'Amsterdam'\n",
      " 'Los Angeles' 'Berlin' 'Helsinki' 'Melbourne / Stockholm' 'Rome' 'Tokyo'\n",
      " 'Mexico' 'Munich' 'Montreal' 'Moscow' 'Seoul' 'Barcelona' 'Atlanta'\n",
      " 'Sydney' 'Beijing']\n",
      "******************************************************\n",
      "No. of Cities in which olympics has happend:22\n"
     ]
    }
   ],
   "source": [
    "city=df[\"City\"].unique()\n",
    "print(f'Cities in which olympics has happend:\\n{city}')\n",
    "print(\"******************************************************\")\n",
    "print(f'No. of Cities in which olympics has happend:{np.size(city)}')"
   ]
  },
  {
   "cell_type": "markdown",
   "metadata": {},
   "source": [
    "### 2. Which sport is having most number of Gold Medals so far? (Top 5)"
   ]
  },
  {
   "cell_type": "code",
   "execution_count": 8,
   "metadata": {},
   "outputs": [
    {
     "name": "stdout",
     "output_type": "stream",
     "text": [
      "Sport\n",
      "Aquatics      1421\n",
      "Athletics     1215\n",
      "Rowing         890\n",
      "Gymnastics     820\n",
      "Fencing        552\n",
      "Name: Medal, dtype: int64\n"
     ]
    },
    {
     "data": {
      "image/png": "[encoded data removed]",
      "text/plain": [
       "<Figure size 864x576 with 1 Axes>"
      ]
     },
     "metadata": {
      "needs_background": "light"
     },
     "output_type": "display_data"
    }
   ],
   "source": [
    "# filtering for Gold medal in the dataset\n",
    "filt=df['Medal']=='Gold'\n",
    "filtered_df=df.where(filt)\n",
    "filtered_df   #filtered dataset having gold medals only\n",
    "freq_count=filtered_df.groupby(['Sport']).count()\n",
    "final=freq_count.sort_values(by=['Medal'],ascending=False).head(5)\n",
    "X1=final['Medal'].values\n",
    "Y1=final.index\n",
    "print(final['Medal'])\n",
    "\n",
    "# plotting bar diagram\n",
    "\n",
    "# set width of bar\n",
    "barWidth = 0.35\n",
    "fig = plt.subplots(figsize =(12, 8))\n",
    "# Set position of bar on X axis\n",
    "br1 = np.arange(len(X1))\n",
    "\n",
    " \n",
    "# Make the plot\n",
    "plt.bar(br1, X1, color ='purple', width = barWidth,\n",
    "        edgecolor ='grey', label ='No. of gold medals')\n",
    "\n",
    " \n",
    "# Adding Xticks\n",
    "plt.title('sports having most number of gold medals so far (Top 5)')\n",
    "plt.xlabel('Name of the sport', fontweight ='bold', fontsize = 15)\n",
    "plt.ylabel('No. of medals', fontweight ='bold', fontsize = 15)\n",
    "plt.xticks([r + barWidth/8 for r in range(len(X1))],Y1)\n",
    " \n",
    "plt.legend()\n",
    "plt.show()\n"
   ]
  },
  {
   "cell_type": "markdown",
   "metadata": {},
   "source": [
    "### 3. Which sport is having most number of medals so far? (Top 5)"
   ]
  },
  {
   "cell_type": "code",
   "execution_count": 9,
   "metadata": {},
   "outputs": [
    {
     "name": "stdout",
     "output_type": "stream",
     "text": [
      "Sport\n",
      "Aquatics      4170\n",
      "Athletics     3638\n",
      "Rowing        2667\n",
      "Gymnastics    2307\n",
      "Fencing       1613\n",
      "Name: Medal, dtype: int64\n"
     ]
    },
    {
     "data": {
      "image/png": "[encoded data removed]",
      "text/plain": [
       "<Figure size 864x576 with 1 Axes>"
      ]
     },
     "metadata": {
      "needs_background": "light"
     },
     "output_type": "display_data"
    }
   ],
   "source": [
    "medals=df.groupby(['Sport']).count()\n",
    "sorted_med=medals.sort_values(by=['Medal'],ascending=False).head(5)\n",
    "X2=sorted_med['Medal'].values\n",
    "Y2=sorted_med.index\n",
    "print(sorted_med['Medal'])\n",
    "# plotting bar diagram\n",
    "\n",
    "# set width of bar\n",
    "barWidth = 0.35\n",
    "fig = plt.subplots(figsize =(12, 8))\n",
    "# Set position of bar on X axis\n",
    "br2 = np.arange(len(X2))\n",
    "\n",
    " \n",
    "# Make the plot\n",
    "plt.bar(br2, X2, color ='r', width = barWidth,\n",
    "        edgecolor ='grey', label ='No. of medals')\n",
    "\n",
    " \n",
    "# Adding Xticks\n",
    "plt.title('sports having most number of medals so far (Top 5)')\n",
    "plt.xlabel('Name of the sport', fontweight ='bold', fontsize = 15)\n",
    "plt.ylabel('No. of medals', fontweight ='bold', fontsize = 15)\n",
    "plt.xticks([r + barWidth/8 for r in range(len(X2))],Y2)\n",
    " \n",
    "plt.legend()\n",
    "plt.show()\n",
    "\n",
    "\n",
    "\n"
   ]
  },
  {
   "cell_type": "markdown",
   "metadata": {},
   "source": [
    "### 4. Which player has won most number of medals? (Top 5)"
   ]
  },
  {
   "cell_type": "code",
   "execution_count": 10,
   "metadata": {},
   "outputs": [
    {
     "name": "stdout",
     "output_type": "stream",
     "text": [
      "Athlete\n",
      "PHELPS, Michael         22\n",
      "LATYNINA, Larisa        18\n",
      "ANDRIANOV, Nikolay      15\n",
      "MANGIAROTTI, Edoardo    13\n",
      "ONO, Takashi            13\n",
      "Name: Medal, dtype: int64\n"
     ]
    },
    {
     "data": {
      "image/png": "[encoded data removed]",
      "text/plain": [
       "<Figure size 864x576 with 1 Axes>"
      ]
     },
     "metadata": {
      "needs_background": "light"
     },
     "output_type": "display_data"
    }
   ],
   "source": [
    "players=df.groupby(['Athlete']).count()\n",
    "top_players=players.sort_values(by=['Medal'],ascending=False).head(5)\n",
    "X3=top_players['Medal'].values\n",
    "Y3=top_players.index\n",
    "print(top_players['Medal'])\n",
    "# plotting bar diagram\n",
    "\n",
    "# set width of bar\n",
    "barWidth = 0.35\n",
    "fig = plt.subplots(figsize =(12, 8))\n",
    "# Set position of bar on X axis\n",
    "br3 = np.arange(len(X3))\n",
    "\n",
    " \n",
    "# Make the plot\n",
    "plt.bar(br3, X3, color ='g', width = barWidth,\n",
    "        edgecolor ='grey', label ='No. of medals')\n",
    "\n",
    " \n",
    "# Adding Xticks\n",
    "plt.title('player having most number of medals (Top 5)')\n",
    "plt.xlabel('Name of the Athlete', fontweight ='bold', fontsize = 15)\n",
    "plt.ylabel('No. of medals', fontweight ='bold', fontsize = 15)\n",
    "plt.xticks([r + barWidth/8 for r in range(len(X3))],Y3)\n",
    " \n",
    "plt.legend()\n",
    "plt.show()\n"
   ]
  },
  {
   "cell_type": "markdown",
   "metadata": {},
   "source": [
    "### 5. Which player has won most number Gold Medals of medals? (Top 5)"
   ]
  },
  {
   "cell_type": "code",
   "execution_count": 11,
   "metadata": {},
   "outputs": [
    {
     "name": "stdout",
     "output_type": "stream",
     "text": [
      "Athlete\n",
      "PHELPS, Michael     18\n",
      "LEWIS, Carl          9\n",
      "NURMI, Paavo         9\n",
      "SPITZ, Mark          9\n",
      "LATYNINA, Larisa     9\n",
      "Name: Medal, dtype: int64\n"
     ]
    },
    {
     "data": {
      "image/png": "[encoded data removed]",
      "text/plain": [
       "<Figure size 864x576 with 1 Axes>"
      ]
     },
     "metadata": {
      "needs_background": "light"
     },
     "output_type": "display_data"
    }
   ],
   "source": [
    "# filtering for Gold medal in the dataset\n",
    "filt2=df['Medal']=='Gold'\n",
    "filt_df=df.where(filt2)\n",
    "filt_df   #filtered dataset having gold medals only\n",
    "count_df=filt_df.groupby(['Athlete']).count()\n",
    "gold=count_df.sort_values(by=['Medal'],ascending=False).head(5)\n",
    "X4=gold['Medal'].values\n",
    "Y4=gold.index\n",
    "print(gold['Medal'])\n",
    "\n",
    "# plotting bar diagram\n",
    "\n",
    "# set width of bar\n",
    "barWidth = 0.35\n",
    "fig = plt.subplots(figsize =(12, 8))\n",
    "# Set position of bar on X axis\n",
    "br1 = np.arange(len(X4))\n",
    "\n",
    " \n",
    "# Make the plot\n",
    "plt.bar(br1, X4, color ='b', width = barWidth,\n",
    "        edgecolor ='grey', label ='No. of gold medals')\n",
    "\n",
    " \n",
    "# Adding Xticks\n",
    "plt.title('players having most number of gold medals so far (Top 5)')\n",
    "plt.xlabel('Name of the player', fontweight ='bold', fontsize = 15)\n",
    "plt.ylabel('No. of gold medals', fontweight ='bold', fontsize = 15)\n",
    "plt.xticks([r + barWidth/8 for r in range(len(X4))],Y4)\n",
    " \n",
    "plt.legend()\n",
    "plt.show()\n"
   ]
  },
  {
   "cell_type": "markdown",
   "metadata": {},
   "source": [
    "### 6. In which year India won first Gold Medal in Summer Olympics?"
   ]
  },
  {
   "cell_type": "code",
   "execution_count": 12,
   "metadata": {},
   "outputs": [
    {
     "name": "stdout",
     "output_type": "stream",
     "text": [
      "Year in which india got its first gold medal:1928\n"
     ]
    }
   ],
   "source": [
    "k=df_arr[:,5:6]\n",
    "y=[]\n",
    "for i in range(np.size(k)):\n",
    "    if (k[i]=='IND') & (df_arr[i,8]=='Gold') :\n",
    "        y.append(df_arr[i,0])\n",
    "print(f'Year in which india got its first gold medal:{min(y)}')"
   ]
  },
  {
   "cell_type": "markdown",
   "metadata": {},
   "source": [
    "### 7. Which event is most popular in terms on number of players? (Top 5)"
   ]
  },
  {
   "cell_type": "code",
   "execution_count": 13,
   "metadata": {},
   "outputs": [
    {
     "data": {
      "text/html": [
       "<div>\n",
       "<style scoped>\n",
       "    .dataframe tbody tr th:only-of-type {\n",
       "        vertical-align: middle;\n",
       "    }\n",
       "\n",
       "    .dataframe tbody tr th {\n",
       "        vertical-align: top;\n",
       "    }\n",
       "\n",
       "    .dataframe thead th {\n",
       "        text-align: right;\n",
       "    }\n",
       "</style>\n",
       "<table border=\"1\" class=\"dataframe\">\n",
       "  <thead>\n",
       "    <tr style=\"text-align: right;\">\n",
       "      <th></th>\n",
       "      <th>Event</th>\n",
       "      <th>no of players</th>\n",
       "    </tr>\n",
       "  </thead>\n",
       "  <tbody>\n",
       "    <tr>\n",
       "      <th>477</th>\n",
       "      <td>Football</td>\n",
       "      <td>1357</td>\n",
       "    </tr>\n",
       "    <tr>\n",
       "      <th>489</th>\n",
       "      <td>Hockey</td>\n",
       "      <td>1154</td>\n",
       "    </tr>\n",
       "    <tr>\n",
       "      <th>614</th>\n",
       "      <td>Team Competition</td>\n",
       "      <td>975</td>\n",
       "    </tr>\n",
       "    <tr>\n",
       "      <th>458</th>\n",
       "      <td>Eight With Coxswain (8+)</td>\n",
       "      <td>828</td>\n",
       "    </tr>\n",
       "    <tr>\n",
       "      <th>403</th>\n",
       "      <td>Basketball</td>\n",
       "      <td>814</td>\n",
       "    </tr>\n",
       "  </tbody>\n",
       "</table>\n",
       "</div>"
      ],
      "text/plain": [
       "                        Event  no of players\n",
       "477                  Football           1357\n",
       "489                    Hockey           1154\n",
       "614          Team Competition            975\n",
       "458  Eight With Coxswain (8+)            828\n",
       "403                Basketball            814"
      ]
     },
     "metadata": {},
     "output_type": "display_data"
    },
    {
     "data": {
      "image/png": "[encoded data removed]",
      "text/plain": [
       "<Figure size 864x576 with 1 Axes>"
      ]
     },
     "metadata": {
      "needs_background": "light"
     },
     "output_type": "display_data"
    }
   ],
   "source": [
    "# In this question there is a tricky part. lets consider an event A and in 1926 'james' plays event A and in 1931 james\n",
    "# again plays event A\n",
    "# so,No of players in event 'A' will be only one player.\n",
    "\n",
    "\n",
    "\n",
    "new=df.groupby(['Event','Athlete']).count()\n",
    "index_tuple=new.index\n",
    "event,player=zip(*index_tuple)\n",
    "frequency = {}\n",
    "\n",
    "# iterating over the list\n",
    "for item in event:\n",
    "   # checking the element in dictionary\n",
    "   if item in frequency:\n",
    "      # incrementing the counr\n",
    "      frequency[item] += 1\n",
    "   else:\n",
    "      # initializing the count\n",
    "      frequency[item] = 1\n",
    "event_tuple = list(frequency.items()) # converting to list of tuple from dict\n",
    "event_df=pd.DataFrame(event_tuple,columns=['Event','no of players'])  #converting to dataframe from list of tuple\n",
    "top_events=event_df.sort_values(by=['no of players'],ascending=False).head(5)\n",
    "display(top_events)\n",
    "Y5=top_events['Event']\n",
    "X5=top_events['no of players']\n",
    "\n",
    "# plotting bar diagram\n",
    "\n",
    "# set width of bar\n",
    "barWidth = 0.35\n",
    "fig = plt.subplots(figsize =(12, 8))\n",
    "# Set position of bar on X axis\n",
    "br5 = np.arange(len(X5))\n",
    "\n",
    " \n",
    "# Make the plot\n",
    "plt.bar(br5, X5, color ='pink', width = barWidth,\n",
    "        edgecolor ='grey', label ='No. of players')\n",
    "\n",
    " \n",
    "# Adding Xticks\n",
    "plt.title('event which is most popular in terms on number of players (Top 5)')\n",
    "plt.xlabel('Name of the event', fontweight ='bold', fontsize = 15)\n",
    "plt.ylabel('No. of players', fontweight ='bold', fontsize = 15)\n",
    "plt.xticks([r + barWidth/8 for r in range(len(X5))],Y5)\n",
    " \n",
    "plt.legend()\n",
    "plt.show()\n",
    "\n"
   ]
  },
  {
   "cell_type": "markdown",
   "metadata": {},
   "source": [
    "## Sport which is having most female Gold Medalists (Top 5)"
   ]
  },
  {
   "cell_type": "code",
   "execution_count": 14,
   "metadata": {},
   "outputs": [
    {
     "name": "stdout",
     "output_type": "stream",
     "text": [
      "Sport\n",
      "Aquatics      589\n",
      "Athletics     389\n",
      "Gymnastics    268\n",
      "Rowing        217\n",
      "Volleyball    166\n",
      "Name: Medal, dtype: int64\n"
     ]
    },
    {
     "data": {
      "image/png": "[encoded data removed]",
      "text/plain": [
       "<Figure size 864x576 with 1 Axes>"
      ]
     },
     "metadata": {
      "needs_background": "light"
     },
     "output_type": "display_data"
    }
   ],
   "source": [
    "# filtering the dataset.\n",
    "filter1=df['Medal']=='Gold'  #filter for gold medal\n",
    "filter2=df['Gender']=='Women' #filter for females\n",
    "gold_med=df.where(filter1)\n",
    "fe_go_med=gold_med.where(filter2)\n",
    "female_med=fe_go_med.groupby(['Sport']).count()\n",
    "top_female=female_med.sort_values(by=['Medal'],ascending=False).head(5)\n",
    "X6=top_female['Medal'].values\n",
    "Y6=top_female.index\n",
    "print(top_female['Medal'])\n",
    "\n",
    "# plotting bar diagram\n",
    "\n",
    "# set width of bar\n",
    "barWidth = 0.35\n",
    "fig = plt.subplots(figsize =(12, 8))\n",
    "# Set position of bar on X axis\n",
    "br6 = np.arange(len(X6))\n",
    "\n",
    " \n",
    "# Make the plot\n",
    "plt.bar(br6, X6, color ='y', width = barWidth,\n",
    "        edgecolor ='grey', label ='No. of female gold medalist')\n",
    "\n",
    " \n",
    "# Adding Xticks\n",
    "plt.title('sport having most female Gold Medalists (Top 5)')\n",
    "plt.xlabel('Name of the sport', fontweight ='bold', fontsize = 15)\n",
    "plt.ylabel('No. of gold medals', fontweight ='bold', fontsize = 15)\n",
    "plt.xticks([r + barWidth/8 for r in range(len(X6))],Y6)\n",
    " \n",
    "plt.legend()\n",
    "plt.show()\n",
    "\n"
   ]
  }
 ],
 "metadata": {
  "kernelspec": {
   "display_name": "Python 3",
   "language": "python",
   "name": "python3"
  },
  "language_info": {
   "codemirror_mode": {
    "name": "ipython",
    "version": 3
   },
   "file_extension": ".py",
   "mimetype": "text/x-python",
   "name": "python",
   "nbconvert_exporter": "python",
   "pygments_lexer": "ipython3",
   "version": "3.7.6"
  }
 },
 "nbformat": 4,
 "nbformat_minor": 2
}
